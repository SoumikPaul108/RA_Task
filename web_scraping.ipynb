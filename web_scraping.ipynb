{
 "cells": [
  {
   "cell_type": "code",
   "execution_count": 1,
   "id": "e9e03d75-0b8a-4187-abff-15514f5c82c0",
   "metadata": {},
   "outputs": [],
   "source": [
    "import pandas as pd\n",
    "import newspaper\n",
    "from newspaper import Article\n",
    "from newspaper import Config"
   ]
  },
  {
   "cell_type": "code",
   "execution_count": 18,
   "id": "15b65772-cf05-4b7d-ad8c-3313d403b083",
   "metadata": {},
   "outputs": [],
   "source": [
    "#!pip install newspaper3k"
   ]
  },
  {
   "cell_type": "code",
   "execution_count": 2,
   "id": "19f06acd-5ab9-4f45-9d47-161d8cc2d78f",
   "metadata": {},
   "outputs": [
    {
     "data": {
      "text/html": [
       "<div>\n",
       "<style scoped>\n",
       "    .dataframe tbody tr th:only-of-type {\n",
       "        vertical-align: middle;\n",
       "    }\n",
       "\n",
       "    .dataframe tbody tr th {\n",
       "        vertical-align: top;\n",
       "    }\n",
       "\n",
       "    .dataframe thead th {\n",
       "        text-align: right;\n",
       "    }\n",
       "</style>\n",
       "<table border=\"1\" class=\"dataframe\">\n",
       "  <thead>\n",
       "    <tr style=\"text-align: right;\">\n",
       "      <th></th>\n",
       "      <th>HTML_FILES</th>\n",
       "    </tr>\n",
       "  </thead>\n",
       "  <tbody>\n",
       "    <tr>\n",
       "      <th>0</th>\n",
       "      <td>https://www.cnn.com/2023/03/05/politics/larry-...</td>\n",
       "    </tr>\n",
       "    <tr>\n",
       "      <th>1</th>\n",
       "      <td>https://www.cnn.com/travel/article/least-visit...</td>\n",
       "    </tr>\n",
       "    <tr>\n",
       "      <th>2</th>\n",
       "      <td>https://www.cnn.com/2023/02/28/tech/tiktok-eu-...</td>\n",
       "    </tr>\n",
       "    <tr>\n",
       "      <th>3</th>\n",
       "      <td>https://www.washingtonpost.com/world/2023/03/0...</td>\n",
       "    </tr>\n",
       "    <tr>\n",
       "      <th>4</th>\n",
       "      <td>https://www.washingtonpost.com/world/2023/03/0...</td>\n",
       "    </tr>\n",
       "    <tr>\n",
       "      <th>5</th>\n",
       "      <td>https://abcnews.go.com/Politics/trump-indicted...</td>\n",
       "    </tr>\n",
       "    <tr>\n",
       "      <th>6</th>\n",
       "      <td>https://www.yahoo.com/news/russian-mobilized-s...</td>\n",
       "    </tr>\n",
       "    <tr>\n",
       "      <th>7</th>\n",
       "      <td>https://www.nytimes.com/2023/03/05/technology/...</td>\n",
       "    </tr>\n",
       "    <tr>\n",
       "      <th>8</th>\n",
       "      <td>https://www.nytimes.com/2023/03/05/us/ron-desa...</td>\n",
       "    </tr>\n",
       "    <tr>\n",
       "      <th>9</th>\n",
       "      <td>https://www.aljazeera.com/news/2023/3/5/fire-h...</td>\n",
       "    </tr>\n",
       "  </tbody>\n",
       "</table>\n",
       "</div>"
      ],
      "text/plain": [
       "                                          HTML_FILES\n",
       "0  https://www.cnn.com/2023/03/05/politics/larry-...\n",
       "1  https://www.cnn.com/travel/article/least-visit...\n",
       "2  https://www.cnn.com/2023/02/28/tech/tiktok-eu-...\n",
       "3  https://www.washingtonpost.com/world/2023/03/0...\n",
       "4  https://www.washingtonpost.com/world/2023/03/0...\n",
       "5  https://abcnews.go.com/Politics/trump-indicted...\n",
       "6  https://www.yahoo.com/news/russian-mobilized-s...\n",
       "7  https://www.nytimes.com/2023/03/05/technology/...\n",
       "8  https://www.nytimes.com/2023/03/05/us/ron-desa...\n",
       "9  https://www.aljazeera.com/news/2023/3/5/fire-h..."
      ]
     },
     "execution_count": 2,
     "metadata": {},
     "output_type": "execute_result"
    }
   ],
   "source": [
    "df1=pd.read_csv('HTML.csv')\n",
    "df1"
   ]
  },
  {
   "cell_type": "code",
   "execution_count": 3,
   "id": "45eba21c-c986-4484-973e-db935d3c72e4",
   "metadata": {},
   "outputs": [
    {
     "name": "stdout",
     "output_type": "stream",
     "text": [
      "10\n"
     ]
    }
   ],
   "source": [
    "#count number of rows\n",
    "row_count=len(df1)\n",
    "print(row_count)"
   ]
  },
  {
   "cell_type": "code",
   "execution_count": 4,
   "id": "66511f4c-465d-4938-a706-9df09a2e2ac4",
   "metadata": {},
   "outputs": [
    {
     "data": {
      "text/html": [
       "<div>\n",
       "<style scoped>\n",
       "    .dataframe tbody tr th:only-of-type {\n",
       "        vertical-align: middle;\n",
       "    }\n",
       "\n",
       "    .dataframe tbody tr th {\n",
       "        vertical-align: top;\n",
       "    }\n",
       "\n",
       "    .dataframe thead th {\n",
       "        text-align: right;\n",
       "    }\n",
       "</style>\n",
       "<table border=\"1\" class=\"dataframe\">\n",
       "  <thead>\n",
       "    <tr style=\"text-align: right;\">\n",
       "      <th></th>\n",
       "      <th>Text</th>\n",
       "    </tr>\n",
       "  </thead>\n",
       "  <tbody>\n",
       "  </tbody>\n",
       "</table>\n",
       "</div>"
      ],
      "text/plain": [
       "Empty DataFrame\n",
       "Columns: [Text]\n",
       "Index: []"
      ]
     },
     "execution_count": 4,
     "metadata": {},
     "output_type": "execute_result"
    }
   ],
   "source": [
    "#creating a new dataFrame\n",
    "df2=pd.DataFrame()\n",
    "df2['Text']=[]\n",
    "df2"
   ]
  },
  {
   "cell_type": "code",
   "execution_count": 5,
   "id": "5232e99e-230e-4d38-bd2f-369a69194a7a",
   "metadata": {},
   "outputs": [
    {
     "data": {
      "text/html": [
       "<div>\n",
       "<style scoped>\n",
       "    .dataframe tbody tr th:only-of-type {\n",
       "        vertical-align: middle;\n",
       "    }\n",
       "\n",
       "    .dataframe tbody tr th {\n",
       "        vertical-align: top;\n",
       "    }\n",
       "\n",
       "    .dataframe thead th {\n",
       "        text-align: right;\n",
       "    }\n",
       "</style>\n",
       "<table border=\"1\" class=\"dataframe\">\n",
       "  <thead>\n",
       "    <tr style=\"text-align: right;\">\n",
       "      <th></th>\n",
       "      <th>Text</th>\n",
       "    </tr>\n",
       "  </thead>\n",
       "  <tbody>\n",
       "    <tr>\n",
       "      <th>0</th>\n",
       "      <td>CNN —\\n\\nFormer Maryland Gov. Larry Hogan said...</td>\n",
       "    </tr>\n",
       "    <tr>\n",
       "      <th>1</th>\n",
       "      <td>Editor’s Note: Monthly Ticket is a CNN Travel ...</td>\n",
       "    </tr>\n",
       "    <tr>\n",
       "      <th>2</th>\n",
       "      <td>Paris/London CNN —\\n\\nThe European Parliament ...</td>\n",
       "    </tr>\n",
       "    <tr>\n",
       "      <th>3</th>\n",
       "      <td>Chinese Premiere Li Keqiang pledged to expand ...</td>\n",
       "    </tr>\n",
       "    <tr>\n",
       "      <th>4</th>\n",
       "      <td>Listen 6 min Comment on this story Comment Gif...</td>\n",
       "    </tr>\n",
       "    <tr>\n",
       "      <th>5</th>\n",
       "      <td>Alaska Sen. Dan Sullivan on Sunday shared his ...</td>\n",
       "    </tr>\n",
       "    <tr>\n",
       "      <th>6</th>\n",
       "      <td>Russian military\\n\\nRead also: Russia’s big of...</td>\n",
       "    </tr>\n",
       "    <tr>\n",
       "      <th>7</th>\n",
       "      <td>Kheiron said the technology worked best alongs...</td>\n",
       "    </tr>\n",
       "    <tr>\n",
       "      <th>8</th>\n",
       "      <td>David Jolly, a former Republican congressman f...</td>\n",
       "    </tr>\n",
       "    <tr>\n",
       "      <th>9</th>\n",
       "      <td>At least 2,000 huts damaged in one of the 32 c...</td>\n",
       "    </tr>\n",
       "  </tbody>\n",
       "</table>\n",
       "</div>"
      ],
      "text/plain": [
       "                                                Text\n",
       "0  CNN —\\n\\nFormer Maryland Gov. Larry Hogan said...\n",
       "1  Editor’s Note: Monthly Ticket is a CNN Travel ...\n",
       "2  Paris/London CNN —\\n\\nThe European Parliament ...\n",
       "3  Chinese Premiere Li Keqiang pledged to expand ...\n",
       "4  Listen 6 min Comment on this story Comment Gif...\n",
       "5  Alaska Sen. Dan Sullivan on Sunday shared his ...\n",
       "6  Russian military\\n\\nRead also: Russia’s big of...\n",
       "7  Kheiron said the technology worked best alongs...\n",
       "8  David Jolly, a former Republican congressman f...\n",
       "9  At least 2,000 huts damaged in one of the 32 c..."
      ]
     },
     "execution_count": 5,
     "metadata": {},
     "output_type": "execute_result"
    }
   ],
   "source": [
    "#iterating over each rows\n",
    "j=0\n",
    "for i in range(len(df1)):\n",
    "    url=(df1.iloc[i][\"HTML_FILES\"])\n",
    "    article = newspaper.Article(url)\n",
    "    try:\n",
    "        article.download()\n",
    "        article.parse()\n",
    "        article.nlp()\n",
    "    except:\n",
    "        pass\n",
    "    # df2 = df2.append({'Text': article.text}, ignore_index=True)\n",
    "    df2.loc[j]=article.text\n",
    "    j+=1\n",
    "df2"
   ]
  },
  {
   "cell_type": "code",
   "execution_count": 6,
   "id": "62be5e10-d40f-4a5d-8332-bbb7bc3fd31e",
   "metadata": {},
   "outputs": [],
   "source": [
    "df2.to_csv('TextFile.csv',index=False)"
   ]
  },
  {
   "cell_type": "markdown",
   "id": "1bbc4486-3d3b-4641-b482-012cdc2f9052",
   "metadata": {},
   "source": [
    "Extracting Embeddings"
   ]
  },
  {
   "cell_type": "code",
   "execution_count": 27,
   "id": "8c792b2e-4a18-42c3-a494-9c79a0331230",
   "metadata": {},
   "outputs": [],
   "source": [
    "# pip install simpletransformers"
   ]
  },
  {
   "cell_type": "code",
   "execution_count": 7,
   "id": "3f47b99c-ecdd-4213-a03d-42ac7c60b355",
   "metadata": {},
   "outputs": [],
   "source": [
    "#converting the dataframe into list\n",
    "text_list=df2['Text'].astype(str).tolist()\n",
    "# print(text_list)"
   ]
  },
  {
   "cell_type": "code",
   "execution_count": 28,
   "id": "6079dca3-b490-4d9d-b139-0d16416168a3",
   "metadata": {},
   "outputs": [],
   "source": [
    "# pip install torch"
   ]
  },
  {
   "cell_type": "code",
   "execution_count": 8,
   "id": "cc2a4460-d830-4ffd-8e16-ba7c8410458b",
   "metadata": {},
   "outputs": [],
   "source": [
    "import numpy as np\n",
    "import torch\n",
    "from tqdm.auto import tqdm\n",
    "from simpletransformers.language_representation import RepresentationModel"
   ]
  },
  {
   "cell_type": "code",
   "execution_count": 9,
   "id": "9f8db667-acb3-4ea8-a14a-feb26a64bf60",
   "metadata": {},
   "outputs": [
    {
     "name": "stderr",
     "output_type": "stream",
     "text": [
      "Some weights of the model checkpoint at bert-base-uncased were not used when initializing BertForTextRepresentation: ['cls.predictions.transform.dense.bias', 'cls.predictions.decoder.weight', 'cls.predictions.transform.LayerNorm.bias', 'cls.seq_relationship.bias', 'cls.predictions.bias', 'cls.predictions.transform.LayerNorm.weight', 'cls.seq_relationship.weight', 'cls.predictions.transform.dense.weight']\n",
      "- This IS expected if you are initializing BertForTextRepresentation from the checkpoint of a model trained on another task or with another architecture (e.g. initializing a BertForSequenceClassification model from a BertForPreTraining model).\n",
      "- This IS NOT expected if you are initializing BertForTextRepresentation from the checkpoint of a model that you expect to be exactly identical (initializing a BertForSequenceClassification model from a BertForSequenceClassification model).\n"
     ]
    }
   ],
   "source": [
    "model=RepresentationModel(\n",
    "    model_type=\"bert\",\n",
    "    model_name=\"bert-base-uncased\",\n",
    "    use_cuda=False\n",
    ")\n",
    "text_vectors=model.encode_sentences(text_list,combine_strategy=\"mean\")"
   ]
  },
  {
   "cell_type": "code",
   "execution_count": 10,
   "id": "ee285ccc-a77b-4a91-a3c2-db775ada2201",
   "metadata": {},
   "outputs": [
    {
     "data": {
      "text/plain": [
       "(10, 768)"
      ]
     },
     "execution_count": 10,
     "metadata": {},
     "output_type": "execute_result"
    }
   ],
   "source": [
    "text_vectors.shape"
   ]
  },
  {
   "cell_type": "code",
   "execution_count": 11,
   "id": "edc00135-13a8-4382-8871-1071b344c0b0",
   "metadata": {},
   "outputs": [
    {
     "data": {
      "text/plain": [
       "array([[-0.2430028 , -0.03686339,  0.12933147, ..., -0.02215536,\n",
       "         0.02565821, -0.16486016],\n",
       "       [-0.2082921 ,  0.12346137,  0.52024037, ..., -0.18253134,\n",
       "         0.44488356, -0.076945  ],\n",
       "       [-0.12032643,  0.20202154,  0.28728086, ..., -0.16669731,\n",
       "        -0.04270961,  0.04811747],\n",
       "       ...,\n",
       "       [-0.09492534,  0.03443784,  0.45339823, ..., -0.15488538,\n",
       "         0.24386209, -0.03027071],\n",
       "       [-0.33159134, -0.20153993,  0.25723073, ..., -0.13800599,\n",
       "        -0.00745352,  0.00383704],\n",
       "       [-0.15575291,  0.05164833,  0.29488418, ..., -0.1231868 ,\n",
       "         0.11837801,  0.04944859]], dtype=float32)"
      ]
     },
     "execution_count": 11,
     "metadata": {},
     "output_type": "execute_result"
    }
   ],
   "source": [
    "text_vectors"
   ]
  }
 ],
 "metadata": {
  "kernelspec": {
   "display_name": "Python 3 (ipykernel)",
   "language": "python",
   "name": "python3"
  },
  "language_info": {
   "codemirror_mode": {
    "name": "ipython",
    "version": 3
   },
   "file_extension": ".py",
   "mimetype": "text/x-python",
   "name": "python",
   "nbconvert_exporter": "python",
   "pygments_lexer": "ipython3",
   "version": "3.9.13"
  }
 },
 "nbformat": 4,
 "nbformat_minor": 5
}
